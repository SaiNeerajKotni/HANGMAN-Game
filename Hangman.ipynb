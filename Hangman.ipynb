{
 "cells": [
  {
   "cell_type": "code",
   "execution_count": 2,
   "id": "30fd1a3b-f2f6-475c-806e-f64f0b7353e8",
   "metadata": {},
   "outputs": [
    {
     "name": "stdout",
     "output_type": "stream",
     "text": [
      "dragon\n",
      "_ _ _ _ _ _ \n"
     ]
    },
    {
     "name": "stdin",
     "output_type": "stream",
     "text": [
      "Guess a word:  c\n"
     ]
    },
    {
     "name": "stdout",
     "output_type": "stream",
     "text": [
      "_ _ _ _ _ _ \n",
      "\n",
      " +---+\n",
      " |   |\n",
      " 0   |\n",
      "     |\n",
      "     |\n",
      "     |\n",
      "=======\n",
      "\n"
     ]
    },
    {
     "name": "stdin",
     "output_type": "stream",
     "text": [
      "Guess a word:  a\n"
     ]
    },
    {
     "name": "stdout",
     "output_type": "stream",
     "text": [
      "_ _ a_ _ _ \n",
      "\n",
      " +---+\n",
      " |   |\n",
      " 0   |\n",
      "     |\n",
      "     |\n",
      "     |\n",
      "=======\n",
      "\n"
     ]
    },
    {
     "name": "stdin",
     "output_type": "stream",
     "text": [
      "Guess a word:  d\n"
     ]
    },
    {
     "name": "stdout",
     "output_type": "stream",
     "text": [
      "d_ a_ _ _ \n",
      "\n",
      " +---+\n",
      " |   |\n",
      " 0   |\n",
      "     |\n",
      "     |\n",
      "     |\n",
      "=======\n",
      "\n"
     ]
    },
    {
     "name": "stdin",
     "output_type": "stream",
     "text": [
      "Guess a word:  r\n"
     ]
    },
    {
     "name": "stdout",
     "output_type": "stream",
     "text": [
      "dra_ _ _ \n",
      "\n",
      " +---+\n",
      " |   |\n",
      " 0   |\n",
      "     |\n",
      "     |\n",
      "     |\n",
      "=======\n",
      "\n"
     ]
    },
    {
     "name": "stdin",
     "output_type": "stream",
     "text": [
      "Guess a word:  a\n"
     ]
    },
    {
     "name": "stdout",
     "output_type": "stream",
     "text": [
      "dra_ _ _ \n",
      "\n",
      " +---+\n",
      " |   |\n",
      " 0   |\n",
      "     |\n",
      "     |\n",
      "     |\n",
      "=======\n",
      "\n"
     ]
    },
    {
     "name": "stdin",
     "output_type": "stream",
     "text": [
      "Guess a word:  g\n"
     ]
    },
    {
     "name": "stdout",
     "output_type": "stream",
     "text": [
      "drag_ _ \n",
      "\n",
      " +---+\n",
      " |   |\n",
      " 0   |\n",
      "     |\n",
      "     |\n",
      "     |\n",
      "=======\n",
      "\n"
     ]
    },
    {
     "name": "stdin",
     "output_type": "stream",
     "text": [
      "Guess a word:  o\n"
     ]
    },
    {
     "name": "stdout",
     "output_type": "stream",
     "text": [
      "drago_ \n",
      "\n",
      " +---+\n",
      " |   |\n",
      " 0   |\n",
      "     |\n",
      "     |\n",
      "     |\n",
      "=======\n",
      "\n"
     ]
    },
    {
     "name": "stdin",
     "output_type": "stream",
     "text": [
      "Guess a word:  n\n"
     ]
    },
    {
     "name": "stdout",
     "output_type": "stream",
     "text": [
      "dragon\n",
      "You won!!\n",
      "\n",
      " +---+\n",
      " |   |\n",
      " 0   |\n",
      "     |\n",
      "     |\n",
      "     |\n",
      "=======\n",
      "\n"
     ]
    }
   ],
   "source": [
    "# HANGMAN game!!\n",
    "# A simple yet engaging text-based Hangman game written in Python. This project is designed for both beginners and those who enjoy word-guessing games.\n",
    "# Features:\n",
    "\n",
    "#     Randomized word selection from a predefined word list.\n",
    "#     Dynamic display of the word being guessed, updated based on user input.\n",
    "#     Visual representation of remaining lives using ASCII art.\n",
    "#     Real-time feedback for correct and incorrect guesses.\n",
    "\n",
    "\n",
    "# How to Play:\n",
    "\n",
    "#     Run the script in any Python environment or Jupyter Notebook.\n",
    "#     Guess one letter at a time to figure out the hidden word.\n",
    "#     Each incorrect guess reduces your lives, and the Hangman graphic updates accordingly.\n",
    "#     Win by guessing all letters correctly or lose if you run out of lives.\n",
    "    \n",
    "# Future Improvements (optional):\n",
    "\n",
    "#     Add difficulty levels with larger word lists.\n",
    "#     Enable support for multi-player mode or player-defined words.\n",
    "#     Improve visuals using GUI libraries like Tkinter or Pygame.\n",
    "\n",
    "\n",
    "import random as rd\n",
    "stages=['''\n",
    " +---+\n",
    " |   |\n",
    " 0   |\n",
    "/|\\  |\n",
    "/ \\  |\n",
    "     |\n",
    "=======\n",
    "''','''\n",
    " +---+\n",
    " |   |\n",
    " 0   |\n",
    "/|\\  |\n",
    "/    |\n",
    "     |\n",
    "=======\n",
    "''','''\n",
    " +---+\n",
    " |   |\n",
    " 0   |\n",
    "/|\\  |\n",
    "     |\n",
    "     |\n",
    "=======\n",
    "''','''\n",
    " +---+\n",
    " |   |\n",
    " 0   |\n",
    "/|   |\n",
    "     |\n",
    "     |\n",
    "=======\n",
    "''','''\n",
    " +---+\n",
    " |   |\n",
    " 0   |\n",
    " |   |\n",
    "     |\n",
    "     |\n",
    "=======\n",
    "''','''\n",
    " +---+\n",
    " |   |\n",
    " 0   |\n",
    "     |\n",
    "     |\n",
    "     |\n",
    "=======\n",
    "''','''\n",
    " +---+\n",
    " |   |\n",
    "     |\n",
    "     |\n",
    "     |\n",
    "     |\n",
    "=======\n",
    "'''  ]      \n",
    "word_list= [\"camel\",\"india\",\"elephant\",\"dragon\"]\n",
    "lives=6\n",
    "a=rd.choice(word_list)\n",
    "print(a)\n",
    "game_over=False\n",
    "place_holder=\"\"\n",
    "correct_letters=[]\n",
    "\n",
    "for i in range(len(a)):\n",
    "    place_holder+=\"_ \"\n",
    "print(place_holder)\n",
    "display=place_holder\n",
    "while not game_over:\n",
    "    guess=input(\"Guess a word: \").lower()\n",
    "    display=\"\"\n",
    "    for letter in a:\n",
    "        if letter == guess:\n",
    "            display+=guess\n",
    "            correct_letters.append(letter)\n",
    "        elif letter in correct_letters:\n",
    "            display+=letter\n",
    "        else:\n",
    "            display+=\"_ \"\n",
    "    print(display)\n",
    "    \n",
    "    if \"_\" not in display:\n",
    "        game_over=True\n",
    "        print(\"You won!!\")\n",
    "    if guess not in a:\n",
    "        lives-=1\n",
    "        if lives==0: \n",
    "            print(\"You Lost!!\")\n",
    "            game_over=True\n",
    "    print(stages[lives])\n",
    "\n"
   ]
  },
  {
   "cell_type": "code",
   "execution_count": null,
   "id": "0762d19a-e380-4b23-8c52-5aea87649d2c",
   "metadata": {},
   "outputs": [],
   "source": []
  }
 ],
 "metadata": {
  "kernelspec": {
   "display_name": "Python 3 (ipykernel)",
   "language": "python",
   "name": "python3"
  },
  "language_info": {
   "codemirror_mode": {
    "name": "ipython",
    "version": 3
   },
   "file_extension": ".py",
   "mimetype": "text/x-python",
   "name": "python",
   "nbconvert_exporter": "python",
   "pygments_lexer": "ipython3",
   "version": "3.10.7"
  }
 },
 "nbformat": 4,
 "nbformat_minor": 5
}
